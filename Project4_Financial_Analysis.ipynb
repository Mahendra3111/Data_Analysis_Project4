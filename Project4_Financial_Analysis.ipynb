{
 "cells": [
  {
   "cell_type": "code",
   "execution_count": 1,
   "metadata": {},
   "outputs": [],
   "source": [
    "# Importing Important libraries\n",
    "import numpy as np\n",
    "import pandas as pd\n",
    "import seaborn as sns\n",
    "from sklearn.impute import KNNImputer"
   ]
  },
  {
   "cell_type": "code",
   "execution_count": 2,
   "metadata": {},
   "outputs": [],
   "source": [
    "# Importing dataset\n",
    "finance_df = pd.read_csv(r'C:\\Users\\MAHENDRA PRAJAPATI\\Downloads\\unified mentorship projects\\Financial Analytics data.csv', encoding='utf-8')"
   ]
  },
  {
   "cell_type": "code",
   "execution_count": 3,
   "metadata": {},
   "outputs": [
    {
     "data": {
      "text/html": [
       "<div>\n",
       "<style scoped>\n",
       "    .dataframe tbody tr th:only-of-type {\n",
       "        vertical-align: middle;\n",
       "    }\n",
       "\n",
       "    .dataframe tbody tr th {\n",
       "        vertical-align: top;\n",
       "    }\n",
       "\n",
       "    .dataframe thead th {\n",
       "        text-align: right;\n",
       "    }\n",
       "</style>\n",
       "<table border=\"1\" class=\"dataframe\">\n",
       "  <thead>\n",
       "    <tr style=\"text-align: right;\">\n",
       "      <th></th>\n",
       "      <th>S.No.</th>\n",
       "      <th>Name</th>\n",
       "      <th>Mar Cap - Crore</th>\n",
       "      <th>Sales Qtr - Crore</th>\n",
       "      <th>Unnamed: 4</th>\n",
       "    </tr>\n",
       "  </thead>\n",
       "  <tbody>\n",
       "    <tr>\n",
       "      <th>0</th>\n",
       "      <td>1</td>\n",
       "      <td>Reliance Inds.</td>\n",
       "      <td>583436.72</td>\n",
       "      <td>99810.00</td>\n",
       "      <td>NaN</td>\n",
       "    </tr>\n",
       "    <tr>\n",
       "      <th>1</th>\n",
       "      <td>2</td>\n",
       "      <td>TCS</td>\n",
       "      <td>563709.84</td>\n",
       "      <td>30904.00</td>\n",
       "      <td>NaN</td>\n",
       "    </tr>\n",
       "    <tr>\n",
       "      <th>2</th>\n",
       "      <td>3</td>\n",
       "      <td>HDFC Bank</td>\n",
       "      <td>482953.59</td>\n",
       "      <td>20581.27</td>\n",
       "      <td>NaN</td>\n",
       "    </tr>\n",
       "    <tr>\n",
       "      <th>3</th>\n",
       "      <td>4</td>\n",
       "      <td>ITC</td>\n",
       "      <td>320985.27</td>\n",
       "      <td>9772.02</td>\n",
       "      <td>NaN</td>\n",
       "    </tr>\n",
       "    <tr>\n",
       "      <th>4</th>\n",
       "      <td>5</td>\n",
       "      <td>H D F C</td>\n",
       "      <td>289497.37</td>\n",
       "      <td>16840.51</td>\n",
       "      <td>NaN</td>\n",
       "    </tr>\n",
       "  </tbody>\n",
       "</table>\n",
       "</div>"
      ],
      "text/plain": [
       "   S.No.            Name  Mar Cap - Crore  Sales Qtr - Crore  Unnamed: 4\n",
       "0      1  Reliance Inds.        583436.72           99810.00         NaN\n",
       "1      2             TCS        563709.84           30904.00         NaN\n",
       "2      3       HDFC Bank        482953.59           20581.27         NaN\n",
       "3      4             ITC        320985.27            9772.02         NaN\n",
       "4      5         H D F C        289497.37           16840.51         NaN"
      ]
     },
     "execution_count": 3,
     "metadata": {},
     "output_type": "execute_result"
    }
   ],
   "source": [
    "# printing first 5 records\n",
    "finance_df.head()"
   ]
  },
  {
   "cell_type": "code",
   "execution_count": 4,
   "metadata": {},
   "outputs": [
    {
     "data": {
      "text/plain": [
       "S.No.                  0\n",
       "Name                   0\n",
       "Mar Cap - Crore        9\n",
       "Sales Qtr - Crore    123\n",
       "Unnamed: 4           394\n",
       "dtype: int64"
      ]
     },
     "execution_count": 4,
     "metadata": {},
     "output_type": "execute_result"
    }
   ],
   "source": [
    "# Checking how many missing value are there\n",
    "finance_df.isnull().sum()"
   ]
  },
  {
   "cell_type": "code",
   "execution_count": 5,
   "metadata": {},
   "outputs": [],
   "source": [
    "finance_df.drop('Unnamed: 4', inplace=True, axis=1)"
   ]
  },
  {
   "cell_type": "code",
   "execution_count": 6,
   "metadata": {},
   "outputs": [],
   "source": [
    "# Creating a copy of the original dataframe\n",
    "df1 = finance_df"
   ]
  },
  {
   "cell_type": "code",
   "execution_count": 7,
   "metadata": {},
   "outputs": [],
   "source": [
    "# Storing the values of both these columns for KNN imputation\n",
    "data = df1[['Mar Cap - Crore','Sales Qtr - Crore']]"
   ]
  },
  {
   "cell_type": "code",
   "execution_count": 8,
   "metadata": {},
   "outputs": [],
   "source": [
    "# Initialize the KNN imputer\n",
    "imputer = KNNImputer(n_neighbors=5)"
   ]
  },
  {
   "cell_type": "code",
   "execution_count": 9,
   "metadata": {},
   "outputs": [],
   "source": [
    "# Impute the missing values\n",
    "imputed_data = imputer.fit_transform(data)"
   ]
  },
  {
   "cell_type": "code",
   "execution_count": 10,
   "metadata": {},
   "outputs": [],
   "source": [
    "# Updating the dataset with imputed data\n",
    "df1[['Mar Cap - Crore','Sales Qtr - Crore']] = imputed_data"
   ]
  },
  {
   "cell_type": "code",
   "execution_count": 11,
   "metadata": {},
   "outputs": [
    {
     "data": {
      "text/html": [
       "<div>\n",
       "<style scoped>\n",
       "    .dataframe tbody tr th:only-of-type {\n",
       "        vertical-align: middle;\n",
       "    }\n",
       "\n",
       "    .dataframe tbody tr th {\n",
       "        vertical-align: top;\n",
       "    }\n",
       "\n",
       "    .dataframe thead th {\n",
       "        text-align: right;\n",
       "    }\n",
       "</style>\n",
       "<table border=\"1\" class=\"dataframe\">\n",
       "  <thead>\n",
       "    <tr style=\"text-align: right;\">\n",
       "      <th></th>\n",
       "      <th>S.No.</th>\n",
       "      <th>Name</th>\n",
       "      <th>Mar Cap - Crore</th>\n",
       "      <th>Sales Qtr - Crore</th>\n",
       "    </tr>\n",
       "  </thead>\n",
       "  <tbody>\n",
       "    <tr>\n",
       "      <th>158</th>\n",
       "      <td>161</td>\n",
       "      <td>Tata Global</td>\n",
       "      <td>16589.24</td>\n",
       "      <td>1730.390</td>\n",
       "    </tr>\n",
       "    <tr>\n",
       "      <th>10</th>\n",
       "      <td>11</td>\n",
       "      <td>ICICI Bank</td>\n",
       "      <td>203802.35</td>\n",
       "      <td>13665.350</td>\n",
       "    </tr>\n",
       "    <tr>\n",
       "      <th>453</th>\n",
       "      <td>466</td>\n",
       "      <td>Dixon Technolog.</td>\n",
       "      <td>3526.80</td>\n",
       "      <td>677.800</td>\n",
       "    </tr>\n",
       "    <tr>\n",
       "      <th>354</th>\n",
       "      <td>367</td>\n",
       "      <td>Netwrk.18 Media</td>\n",
       "      <td>5067.23</td>\n",
       "      <td>366.020</td>\n",
       "    </tr>\n",
       "    <tr>\n",
       "      <th>102</th>\n",
       "      <td>103</td>\n",
       "      <td>NHPC Ltd</td>\n",
       "      <td>28059.24</td>\n",
       "      <td>1497.930</td>\n",
       "    </tr>\n",
       "    <tr>\n",
       "      <th>366</th>\n",
       "      <td>379</td>\n",
       "      <td>V I P Inds.</td>\n",
       "      <td>4819.63</td>\n",
       "      <td>337.990</td>\n",
       "    </tr>\n",
       "    <tr>\n",
       "      <th>24</th>\n",
       "      <td>25</td>\n",
       "      <td>UltraTech Cem.</td>\n",
       "      <td>113692.87</td>\n",
       "      <td>8019.240</td>\n",
       "    </tr>\n",
       "    <tr>\n",
       "      <th>73</th>\n",
       "      <td>74</td>\n",
       "      <td>Ashok Leyland</td>\n",
       "      <td>39047.57</td>\n",
       "      <td>8586.094</td>\n",
       "    </tr>\n",
       "    <tr>\n",
       "      <th>274</th>\n",
       "      <td>287</td>\n",
       "      <td>Sheela Foam</td>\n",
       "      <td>7815.74</td>\n",
       "      <td>532.210</td>\n",
       "    </tr>\n",
       "    <tr>\n",
       "      <th>305</th>\n",
       "      <td>318</td>\n",
       "      <td>PVR</td>\n",
       "      <td>6591.31</td>\n",
       "      <td>557.250</td>\n",
       "    </tr>\n",
       "  </tbody>\n",
       "</table>\n",
       "</div>"
      ],
      "text/plain": [
       "     S.No.              Name  Mar Cap - Crore  Sales Qtr - Crore\n",
       "158    161       Tata Global         16589.24           1730.390\n",
       "10      11        ICICI Bank        203802.35          13665.350\n",
       "453    466  Dixon Technolog.          3526.80            677.800\n",
       "354    367   Netwrk.18 Media          5067.23            366.020\n",
       "102    103          NHPC Ltd         28059.24           1497.930\n",
       "366    379       V I P Inds.          4819.63            337.990\n",
       "24      25    UltraTech Cem.        113692.87           8019.240\n",
       "73      74     Ashok Leyland         39047.57           8586.094\n",
       "274    287       Sheela Foam          7815.74            532.210\n",
       "305    318               PVR          6591.31            557.250"
      ]
     },
     "execution_count": 11,
     "metadata": {},
     "output_type": "execute_result"
    }
   ],
   "source": [
    "# Checking random rows of data\n",
    "df1.sample(10)"
   ]
  },
  {
   "cell_type": "code",
   "execution_count": 12,
   "metadata": {},
   "outputs": [
    {
     "data": {
      "text/plain": [
       "<Axes: xlabel='Mar Cap - Crore'>"
      ]
     },
     "execution_count": 12,
     "metadata": {},
     "output_type": "execute_result"
    },
    {
     "data": {
      "image/png": "[encoded data removed]",
      "text/plain": [
       "<Figure size 640x480 with 1 Axes>"
      ]
     },
     "metadata": {},
     "output_type": "display_data"
    }
   ],
   "source": [
    "# Checking if the 'Mar Cap - Crore' column has ant outliers\n",
    "sns.boxplot(data=df1, x='Mar Cap - Crore')"
   ]
  },
  {
   "cell_type": "code",
   "execution_count": 13,
   "metadata": {},
   "outputs": [
    {
     "data": {
      "text/plain": [
       "<Axes: xlabel='Sales Qtr - Crore'>"
      ]
     },
     "execution_count": 13,
     "metadata": {},
     "output_type": "execute_result"
    },
    {
     "data": {
      "image/png": "[encoded data removed]",
      "text/plain": [
       "<Figure size 640x480 with 1 Axes>"
      ]
     },
     "metadata": {},
     "output_type": "display_data"
    }
   ],
   "source": [
    "# Checking if the Sales Qtr - Crore' column has any outliers\n",
    "sns.boxplot(data=df1, x='Sales Qtr - Crore')\n"
   ]
  },
  {
   "cell_type": "markdown",
   "metadata": {},
   "source": [
    "**Both Mar Cap - Crore and Sales Qtr - Crore column has a lots of Outliers**"
   ]
  },
  {
   "cell_type": "code",
   "execution_count": 14,
   "metadata": {},
   "outputs": [],
   "source": [
    "# I will use IQR method to eliminate the outliers\n",
    "# Calculating first and third quartiles\n",
    "Q1 = df1['Mar Cap - Crore'].quantile(0.25)\n",
    "Q3 = df1['Sales Qtr - Crore'].quantile(0.75)"
   ]
  },
  {
   "cell_type": "code",
   "execution_count": 15,
   "metadata": {},
   "outputs": [],
   "source": [
    "# Calculating IQR\n",
    "IQR = Q3-Q1"
   ]
  },
  {
   "cell_type": "code",
   "execution_count": 16,
   "metadata": {},
   "outputs": [],
   "source": [
    "# defining lower and upper limits\n",
    "lower = Q1 - 1.5*IQR\n",
    "upper = Q3 + 1.5*IQR"
   ]
  },
  {
   "cell_type": "code",
   "execution_count": 17,
   "metadata": {},
   "outputs": [],
   "source": [
    "# Filtering the dataset to remove the outliers\n",
    "df1 = df1[(df1['Mar Cap - Crore'] >= lower) & (df1['Sales Qtr - Crore'] <= upper)]"
   ]
  },
  {
   "cell_type": "code",
   "execution_count": 18,
   "metadata": {},
   "outputs": [
    {
     "data": {
      "text/plain": [
       "<Axes: xlabel='Mar Cap - Crore'>"
      ]
     },
     "execution_count": 18,
     "metadata": {},
     "output_type": "execute_result"
    },
    {
     "data": {
      "image/png": "[encoded data removed]",
      "text/plain": [
       "<Figure size 640x480 with 1 Axes>"
      ]
     },
     "metadata": {},
     "output_type": "display_data"
    }
   ],
   "source": [
    "# Checking if we still have the outliers using boxplot\n",
    "sns.boxplot(data=df1, x='Mar Cap - Crore')"
   ]
  },
  {
   "cell_type": "code",
   "execution_count": 19,
   "metadata": {},
   "outputs": [],
   "source": [
    "#I will use IQR method to eliminate the outliers\n",
    "#calculating first and third quartiles\n",
    "Q1 = df1['Mar Cap - Crore'].quantile(0.25)\n",
    "Q3 = df1['Mar Cap - Crore'].quantile(0.75)\n",
    "\n",
    "#Calculating IQR\n",
    "IQR = Q3-Q1\n",
    "\n",
    "#defining lower and upper limits\n",
    "lower = Q1-1.5*IQR\n",
    "upper = Q3+1.5*IQR\n",
    "\n",
    "#filtering the dataset to remove the outliers\n",
    "df1 = df1[(df1['Mar Cap - Crore'] >= lower) & (df1['Mar Cap - Crore'] <= upper)]"
   ]
  },
  {
   "cell_type": "code",
   "execution_count": 20,
   "metadata": {},
   "outputs": [
    {
     "data": {
      "text/plain": [
       "<Axes: xlabel='Mar Cap - Crore'>"
      ]
     },
     "execution_count": 20,
     "metadata": {},
     "output_type": "execute_result"
    },
    {
     "data": {
      "image/png": "[encoded data removed]",
      "text/plain": [
       "<Figure size 640x480 with 1 Axes>"
      ]
     },
     "metadata": {},
     "output_type": "display_data"
    }
   ],
   "source": [
    "#checking if we still have the outliers using boxplot\n",
    "sns.boxplot(data=df1, x='Mar Cap - Crore')"
   ]
  },
  {
   "cell_type": "code",
   "execution_count": 21,
   "metadata": {},
   "outputs": [],
   "source": [
    "#I will use IQR method to eliminate the outliers\n",
    "#calculating first and third quartiles\n",
    "Q1 = df1['Mar Cap - Crore'].quantile(0.25)\n",
    "Q3 = df1['Mar Cap - Crore'].quantile(0.75)\n",
    "\n",
    "#Calculating IQR\n",
    "IQR = Q3-Q1\n",
    "\n",
    "#defining lower and upper limits\n",
    "lower = Q1-1.5*IQR\n",
    "upper = Q3+1.5*IQR\n",
    "\n",
    "#filtering the dataset to remove the outliers\n",
    "df1 = df1[(df1['Mar Cap - Crore'] >= lower) & (df1['Mar Cap - Crore'] <= upper)]"
   ]
  },
  {
   "cell_type": "code",
   "execution_count": 22,
   "metadata": {},
   "outputs": [
    {
     "data": {
      "text/plain": [
       "<Axes: xlabel='Mar Cap - Crore'>"
      ]
     },
     "execution_count": 22,
     "metadata": {},
     "output_type": "execute_result"
    },
    {
     "data": {
      "image/png": "[encoded data removed]",
      "text/plain": [
       "<Figure size 640x480 with 1 Axes>"
      ]
     },
     "metadata": {},
     "output_type": "display_data"
    }
   ],
   "source": [
    "#checking if we still have the outliers using boxplot\n",
    "sns.boxplot(data=df1, x='Mar Cap - Crore')"
   ]
  },
  {
   "cell_type": "code",
   "execution_count": 23,
   "metadata": {},
   "outputs": [],
   "source": [
    "#I will use IQR method to eliminate the outliers\n",
    "#calculating first and third quartiles\n",
    "Q1 = df1['Mar Cap - Crore'].quantile(0.25)\n",
    "Q3 = df1['Mar Cap - Crore'].quantile(0.75)\n",
    "\n",
    "#Calculating IQR\n",
    "IQR = Q3-Q1\n",
    "\n",
    "#defining lower and upper limits\n",
    "lower = Q1-1.5*IQR\n",
    "upper = Q3+1.5*IQR\n",
    "\n",
    "#filtering the dataset to remove the outliers\n",
    "df1 = df1[(df1['Mar Cap - Crore'] >= lower) & (df1['Mar Cap - Crore'] <= upper)]\n"
   ]
  },
  {
   "cell_type": "code",
   "execution_count": 24,
   "metadata": {},
   "outputs": [
    {
     "data": {
      "text/plain": [
       "<Axes: xlabel='Mar Cap - Crore'>"
      ]
     },
     "execution_count": 24,
     "metadata": {},
     "output_type": "execute_result"
    },
    {
     "data": {
      "image/png": "[encoded data removed]",
      "text/plain": [
       "<Figure size 640x480 with 1 Axes>"
      ]
     },
     "metadata": {},
     "output_type": "display_data"
    }
   ],
   "source": [
    "#checking if we still have the outliers using boxplot\n",
    "sns.boxplot(data=df1, x='Mar Cap - Crore')"
   ]
  },
  {
   "cell_type": "code",
   "execution_count": 25,
   "metadata": {},
   "outputs": [],
   "source": [
    "#I will use IQR method to eliminate the outliers\n",
    "#calculating first and third quartiles\n",
    "Q1 = df1['Mar Cap - Crore'].quantile(0.25)\n",
    "Q3 = df1['Mar Cap - Crore'].quantile(0.75)\n",
    "\n",
    "#Calculating IQR\n",
    "IQR = Q3-Q1\n",
    "\n",
    "#defining lower and upper limits\n",
    "lower = Q1-1.5*IQR\n",
    "upper = Q3+1.5*IQR\n",
    "\n",
    "#filtering the dataset to remove the outliers\n",
    "df1 = df1[(df1['Mar Cap - Crore'] >= lower) & (df1['Mar Cap - Crore'] <= upper)]\n"
   ]
  },
  {
   "cell_type": "code",
   "execution_count": 26,
   "metadata": {},
   "outputs": [
    {
     "data": {
      "text/plain": [
       "<Axes: xlabel='Mar Cap - Crore'>"
      ]
     },
     "execution_count": 26,
     "metadata": {},
     "output_type": "execute_result"
    },
    {
     "data": {
      "image/png": "[encoded data removed]",
      "text/plain": [
       "<Figure size 640x480 with 1 Axes>"
      ]
     },
     "metadata": {},
     "output_type": "display_data"
    }
   ],
   "source": [
    "#checking if we still have the outliers using boxplot\n",
    "sns.boxplot(data=df1, x='Mar Cap - Crore')"
   ]
  },
  {
   "cell_type": "code",
   "execution_count": 27,
   "metadata": {},
   "outputs": [],
   "source": [
    "#I will use IQR method to eliminate the outliers\n",
    "#calculating first and third quartiles\n",
    "Q1 = df1['Mar Cap - Crore'].quantile(0.25)\n",
    "Q3 = df1['Mar Cap - Crore'].quantile(0.75)\n",
    "\n",
    "#Calculating IQR\n",
    "IQR = Q3-Q1\n",
    "\n",
    "#defining lower and upper limits\n",
    "lower = Q1-1.5*IQR\n",
    "upper = Q3+1.5*IQR\n",
    "\n",
    "#filtering the dataset to remove the outliers\n",
    "df1 = df1[(df1['Mar Cap - Crore'] >= lower) & (df1['Mar Cap - Crore'] <= upper)]"
   ]
  },
  {
   "cell_type": "code",
   "execution_count": 28,
   "metadata": {},
   "outputs": [
    {
     "data": {
      "text/plain": [
       "<Axes: xlabel='Mar Cap - Crore'>"
      ]
     },
     "execution_count": 28,
     "metadata": {},
     "output_type": "execute_result"
    },
    {
     "data": {
      "image/png": "[encoded data removed]",
      "text/plain": [
       "<Figure size 640x480 with 1 Axes>"
      ]
     },
     "metadata": {},
     "output_type": "display_data"
    }
   ],
   "source": [
    "#checking if we still have the outliers using boxplot\n",
    "sns.boxplot(data=df1, x='Mar Cap - Crore')"
   ]
  },
  {
   "cell_type": "code",
   "execution_count": 29,
   "metadata": {},
   "outputs": [],
   "source": [
    "#I will use IQR method to eliminate the outliers\n",
    "#calculating first and third quartiles\n",
    "Q1 = df1['Mar Cap - Crore'].quantile(0.25)\n",
    "Q3 = df1['Mar Cap - Crore'].quantile(0.75)\n",
    "\n",
    "#Calculating IQR\n",
    "IQR = Q3-Q1\n",
    "\n",
    "#defining lower and upper limits\n",
    "lower = Q1-1.5*IQR\n",
    "upper = Q3+1.5*IQR\n",
    "\n",
    "#filtering the dataset to remove the outliers\n",
    "df1 = df1[(df1['Mar Cap - Crore'] >= lower) & (df1['Mar Cap - Crore'] <= upper)]"
   ]
  },
  {
   "cell_type": "code",
   "execution_count": 30,
   "metadata": {},
   "outputs": [
    {
     "data": {
      "text/plain": [
       "<Axes: xlabel='Mar Cap - Crore'>"
      ]
     },
     "execution_count": 30,
     "metadata": {},
     "output_type": "execute_result"
    },
    {
     "data": {
      "image/png": "[encoded data removed]",
      "text/plain": [
       "<Figure size 640x480 with 1 Axes>"
      ]
     },
     "metadata": {},
     "output_type": "display_data"
    }
   ],
   "source": [
    "#checking if we still have the outliers using boxplot\n",
    "sns.boxplot(data=df1, x='Mar Cap - Crore')"
   ]
  },
  {
   "cell_type": "code",
   "execution_count": 31,
   "metadata": {},
   "outputs": [],
   "source": [
    "# Now i will use IQR method to eliminate the outliers in 'Sales Qtr - Crore Column\n",
    "#calculating first and third quartiles\n",
    "Q1 = df1['Sales Qtr - Crore'].quantile(0.25)\n",
    "Q3 = df1['Sales Qtr - Crore'].quantile(0.75)\n",
    "\n",
    "#Calculating IQR\n",
    "IQR = Q3-Q1\n",
    "\n",
    "#defining lower and upper limits\n",
    "lower = Q1-1.5*IQR\n",
    "upper = Q3+1.5*IQR\n",
    "\n",
    "#filtering the dataset to remove the outliers\n",
    "df1 = df1[(df1['Sales Qtr - Crore'] >= lower) & (df1['Sales Qtr - Crore'] <= upper)]\n"
   ]
  },
  {
   "cell_type": "code",
   "execution_count": 32,
   "metadata": {},
   "outputs": [
    {
     "data": {
      "text/plain": [
       "<Axes: xlabel='Sales Qtr - Crore'>"
      ]
     },
     "execution_count": 32,
     "metadata": {},
     "output_type": "execute_result"
    },
    {
     "data": {
      "image/png": "[encoded data removed]",
      "text/plain": [
       "<Figure size 640x480 with 1 Axes>"
      ]
     },
     "metadata": {},
     "output_type": "display_data"
    }
   ],
   "source": [
    "#checking if we still have the outliers using boxplot\n",
    "sns.boxplot(data=df1, x='Sales Qtr - Crore')"
   ]
  },
  {
   "cell_type": "code",
   "execution_count": 33,
   "metadata": {},
   "outputs": [],
   "source": [
    "# Now i will use IQR method to eliminate the outliers in 'Sales Qtr - Crore Column\n",
    "#calculating first and third quartiles\n",
    "Q1 = df1['Sales Qtr - Crore'].quantile(0.25)\n",
    "Q3 = df1['Sales Qtr - Crore'].quantile(0.75)\n",
    "\n",
    "#Calculating IQR\n",
    "IQR = Q3-Q1\n",
    "\n",
    "#defining lower and upper limits\n",
    "lower = Q1-1.5*IQR\n",
    "upper = Q3+1.5*IQR\n",
    "\n",
    "#filtering the dataset to remove the outliers\n",
    "df1 = df1[(df1['Sales Qtr - Crore'] >= lower) & (df1['Sales Qtr - Crore'] <= upper)]"
   ]
  },
  {
   "cell_type": "code",
   "execution_count": 34,
   "metadata": {},
   "outputs": [
    {
     "data": {
      "text/plain": [
       "<Axes: xlabel='Sales Qtr - Crore'>"
      ]
     },
     "execution_count": 34,
     "metadata": {},
     "output_type": "execute_result"
    },
    {
     "data": {
      "image/png": "[encoded data removed]",
      "text/plain": [
       "<Figure size 640x480 with 1 Axes>"
      ]
     },
     "metadata": {},
     "output_type": "display_data"
    }
   ],
   "source": [
    "#checking if we still have the outliers using boxplot\n",
    "sns.boxplot(data=df1, x='Sales Qtr - Crore')"
   ]
  },
  {
   "cell_type": "markdown",
   "metadata": {},
   "source": [
    "**All the Outliers from the column 'Sales Qtr - Crore' hase been Removed**"
   ]
  },
  {
   "cell_type": "code",
   "execution_count": 35,
   "metadata": {},
   "outputs": [
    {
     "data": {
      "text/html": [
       "<div>\n",
       "<style scoped>\n",
       "    .dataframe tbody tr th:only-of-type {\n",
       "        vertical-align: middle;\n",
       "    }\n",
       "\n",
       "    .dataframe tbody tr th {\n",
       "        vertical-align: top;\n",
       "    }\n",
       "\n",
       "    .dataframe thead th {\n",
       "        text-align: right;\n",
       "    }\n",
       "</style>\n",
       "<table border=\"1\" class=\"dataframe\">\n",
       "  <thead>\n",
       "    <tr style=\"text-align: right;\">\n",
       "      <th></th>\n",
       "      <th>S.No.</th>\n",
       "      <th>Mar Cap - Crore</th>\n",
       "      <th>Sales Qtr - Crore</th>\n",
       "    </tr>\n",
       "  </thead>\n",
       "  <tbody>\n",
       "    <tr>\n",
       "      <th>count</th>\n",
       "      <td>186.000000</td>\n",
       "      <td>186.000000</td>\n",
       "      <td>186.000000</td>\n",
       "    </tr>\n",
       "    <tr>\n",
       "      <th>mean</th>\n",
       "      <td>232.661290</td>\n",
       "      <td>11760.351237</td>\n",
       "      <td>1354.997796</td>\n",
       "    </tr>\n",
       "    <tr>\n",
       "      <th>std</th>\n",
       "      <td>63.520061</td>\n",
       "      <td>4739.356478</td>\n",
       "      <td>795.945741</td>\n",
       "    </tr>\n",
       "    <tr>\n",
       "      <th>min</th>\n",
       "      <td>117.000000</td>\n",
       "      <td>5802.660000</td>\n",
       "      <td>162.680000</td>\n",
       "    </tr>\n",
       "    <tr>\n",
       "      <th>25%</th>\n",
       "      <td>179.250000</td>\n",
       "      <td>7794.940000</td>\n",
       "      <td>683.900000</td>\n",
       "    </tr>\n",
       "    <tr>\n",
       "      <th>50%</th>\n",
       "      <td>232.500000</td>\n",
       "      <td>10810.520000</td>\n",
       "      <td>1204.670000</td>\n",
       "    </tr>\n",
       "    <tr>\n",
       "      <th>75%</th>\n",
       "      <td>288.750000</td>\n",
       "      <td>14610.487500</td>\n",
       "      <td>1888.172500</td>\n",
       "    </tr>\n",
       "    <tr>\n",
       "      <th>max</th>\n",
       "      <td>338.000000</td>\n",
       "      <td>24788.540000</td>\n",
       "      <td>3170.574000</td>\n",
       "    </tr>\n",
       "  </tbody>\n",
       "</table>\n",
       "</div>"
      ],
      "text/plain": [
       "            S.No.  Mar Cap - Crore  Sales Qtr - Crore\n",
       "count  186.000000       186.000000         186.000000\n",
       "mean   232.661290     11760.351237        1354.997796\n",
       "std     63.520061      4739.356478         795.945741\n",
       "min    117.000000      5802.660000         162.680000\n",
       "25%    179.250000      7794.940000         683.900000\n",
       "50%    232.500000     10810.520000        1204.670000\n",
       "75%    288.750000     14610.487500        1888.172500\n",
       "max    338.000000     24788.540000        3170.574000"
      ]
     },
     "execution_count": 35,
     "metadata": {},
     "output_type": "execute_result"
    }
   ],
   "source": [
    "# Checking the dataset description\n",
    "df1.describe()"
   ]
  },
  {
   "cell_type": "code",
   "execution_count": 37,
   "metadata": {},
   "outputs": [],
   "source": [
    "# I can see that there is some zero values in 'Sales Qtr - Crore' column. Lets replace it with NaN and impute it with KNN imputer\n",
    "df1['Sales Qtr - Crore'].replace(0, np.nan, inplace=True)"
   ]
  },
  {
   "cell_type": "code",
   "execution_count": 38,
   "metadata": {},
   "outputs": [
    {
     "data": {
      "text/plain": [
       "0"
      ]
     },
     "execution_count": 38,
     "metadata": {},
     "output_type": "execute_result"
    }
   ],
   "source": [
    "# Checking how many null values are there\n",
    "df1['Sales Qtr - Crore'].isna().sum()"
   ]
  },
  {
   "cell_type": "code",
   "execution_count": 39,
   "metadata": {},
   "outputs": [],
   "source": [
    "# Applying KNN imputation method on Sales Qtr - Crore\n",
    "data = df1[['Sales Qtr - Crore']]\n",
    "imputer = KNNImputer(n_neighbors=5)\n",
    "imputed_data = imputer.fit_transform(data)\n",
    "df1['Sales Qtr - Crore'] = imputed_data"
   ]
  },
  {
   "cell_type": "code",
   "execution_count": 40,
   "metadata": {},
   "outputs": [
    {
     "data": {
      "text/plain": [
       "S.No.                0\n",
       "Name                 0\n",
       "Mar Cap - Crore      0\n",
       "Sales Qtr - Crore    0\n",
       "dtype: int64"
      ]
     },
     "execution_count": 40,
     "metadata": {},
     "output_type": "execute_result"
    }
   ],
   "source": [
    "df1.isna().sum()"
   ]
  },
  {
   "cell_type": "markdown",
   "metadata": {},
   "source": [
    "**Now We Can See That There Is No Null Values Left**"
   ]
  },
  {
   "cell_type": "code",
   "execution_count": 41,
   "metadata": {},
   "outputs": [
    {
     "data": {
      "text/plain": [
       "<Axes: xlabel='Sales Qtr - Crore'>"
      ]
     },
     "execution_count": 41,
     "metadata": {},
     "output_type": "execute_result"
    },
    {
     "data": {
      "image/png": "[encoded data removed]",
      "text/plain": [
       "<Figure size 640x480 with 1 Axes>"
      ]
     },
     "metadata": {},
     "output_type": "display_data"
    }
   ],
   "source": [
    "# Lets check for the outliers again for the column 'Sales Qtr - Crore'\n",
    "sns.boxplot(data= df1, x= 'Sales Qtr - Crore')"
   ]
  },
  {
   "cell_type": "code",
   "execution_count": 42,
   "metadata": {},
   "outputs": [],
   "source": [
    "# now the data looks good \n",
    "# lets export it to excel file"
   ]
  },
  {
   "cell_type": "code",
   "execution_count": 44,
   "metadata": {},
   "outputs": [],
   "source": [
    "df1.to_csv(r'C:\\Users\\MAHENDRA PRAJAPATI\\Downloads\\unified mentorship projects\\Financial_data_Analysis.csv', index =False)"
   ]
  },
  {
   "cell_type": "code",
   "execution_count": null,
   "metadata": {},
   "outputs": [],
   "source": []
  }
 ],
 "metadata": {
  "kernelspec": {
   "display_name": "Python 3",
   "language": "python",
   "name": "python3"
  },
  "language_info": {
   "codemirror_mode": {
    "name": "ipython",
    "version": 3
   },
   "file_extension": ".py",
   "mimetype": "text/x-python",
   "name": "python",
   "nbconvert_exporter": "python",
   "pygments_lexer": "ipython3",
   "version": "3.10.1"
  }
 },
 "nbformat": 4,
 "nbformat_minor": 2
}
